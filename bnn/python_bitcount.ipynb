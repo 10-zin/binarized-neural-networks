{
 "cells": [
  {
   "cell_type": "markdown",
   "metadata": {},
   "source": [
    "# A Binary Softmax Classifier in one line of pure Python\n",
    "\n",
    "A BNN just relies on XNOR and POPCNT.\n",
    "This can be accomplished in Python as\n",
    "\n",
    "```bin(a ^ b).count('0')```"
   ]
  },
  {
   "cell_type": "markdown",
   "metadata": {},
   "source": [
    "## Load the data, reduce resolution to 14x14, and binarize"
   ]
  },
  {
   "cell_type": "code",
   "execution_count": 19,
   "metadata": {},
   "outputs": [
    {
     "data": {
      "text/plain": [
       "Text(0.5, 1.0, '5')"
      ]
     },
     "execution_count": 19,
     "metadata": {},
     "output_type": "execute_result"
    },
    {
     "data": {
      "image/png": "[encoded data removed]",
      "text/plain": [
       "<Figure size 640x480 with 1 Axes>"
      ]
     },
     "metadata": {},
     "output_type": "display_data"
    }
   ],
   "source": [
    "# import MNIST dataset and show an image\n",
    "import torch\n",
    "import matplotlib.pyplot as plt\n",
    "from tqdm import tqdm\n",
    "\n",
    "\n",
    "from torchvision import datasets, transforms\n",
    "from torch.utils.data import DataLoader\n",
    "from torch.utils.data.sampler import SubsetRandomSampler\n",
    "\n",
    "# Define a transform to normalize the data\n",
    "transform = transforms.Compose([transforms.ToTensor(),\n",
    "                                transforms.Normalize((0,), (1.0,)),\n",
    "                              ])\n",
    "\n",
    "# Download and load the training data\n",
    "trainset = datasets.MNIST('MNIST_data/', download=True, train=True, transform=transform)\n",
    "validset = datasets.MNIST('MNIST_data/', download=True, train=False, transform=transform)\n",
    "\n",
    "def binarize_image(image):\n",
    "  # binarize\n",
    "  image = torch.where(image > 0., 1., -1.)\n",
    "  # 2x2 max pooling\n",
    "  image = image.view(1, 28, 28)\n",
    "  image = torch.nn.functional.max_pool2d(image, 2, stride=2)\n",
    "  image = image.view(14, 14)\n",
    "  return image\n",
    "\n",
    "# plot the first image in the dataset\n",
    "image, label = trainset[0]\n",
    "image = binarize_image(image)\n",
    "plt.imshow(image, cmap='gray')\n",
    "plt.title(label)"
   ]
  },
  {
   "cell_type": "markdown",
   "metadata": {},
   "source": [
    "## Convert bitarrays to integers. (Both the images and the weights must be converted.)"
   ]
  },
  {
   "cell_type": "code",
   "execution_count": 20,
   "metadata": {},
   "outputs": [
    {
     "name": "stdout",
     "output_type": "stream",
     "text": [
      "Interger representation of the image: \n",
      "\t22454421217215396784785283249936507327682043917107200\n"
     ]
    }
   ],
   "source": [
    "def bits_to_int(bits):\n",
    "    \"\"\" Convert a Tensor of ±1 weights to an integer \"\"\"\n",
    "    return sum([2**i if w == 1 else 0 for i, w in enumerate(bits)])\n",
    "image_number = bits_to_int(image.view(-1))\n",
    "print('Interger representation of the image: ', image_number, sep='\\n\\t')"
   ]
  },
  {
   "cell_type": "code",
   "execution_count": 28,
   "metadata": {},
   "outputs": [
    {
     "name": "stdout",
     "output_type": "stream",
     "text": [
      "Integer representation of the weights: \n",
      "\t69202147822387071132704518855746991949367362255233210354605\n",
      "\t18878814369946987095797706140359643633980551298119608171906\n",
      "\t78540396832536585483368402375151028044931349665181813605288\n",
      "\t59651287096264206496523126758990045730903949349863093764934\n",
      "\t37678846380222160407391793392907136717717661087841581533832\n",
      "\t3171297574277440634209123696293269987358799324618069912093\n",
      "\t94466091066229680046463532016975435255882059900073535301564\n",
      "\t25062623171492492486445059995270854716374161591472388719938\n",
      "\t65926414588134245937835258476719655445011905679206494796871\n",
      "\t50098809060764840098273587919356234368900679506047675839944\n"
     ]
    }
   ],
   "source": [
    "from bnn.softmax_regression import Net\n",
    "from bnn.binary_connect_utils import BCSampler\n",
    "model = Net()\n",
    "model.load_state_dict(torch.load('models/softmax.pt'))\n",
    "binary_weights = BCSampler.apply(model.fc1.weight)\n",
    "weight_numbers = list(bits_to_int(w) for w in binary_weights)\n",
    "print('Integer representation of the weights: ', *weight_numbers, sep='\\n\\t')"
   ]
  },
  {
   "cell_type": "markdown",
   "metadata": {},
   "source": [
    "## The BNN\n",
    "\n",
    "We can implement XNOR + POPCNT as\n",
    "```\n",
    "bin(image ^ weight_number).count('0')\n",
    "```"
   ]
  },
  {
   "cell_type": "code",
   "execution_count": 29,
   "metadata": {},
   "outputs": [
    {
     "name": "stdout",
     "output_type": "stream",
     "text": [
      "Digits sorted by increasing likelihood:  [9, 7, 4, 6, 2, 0, 1, 5, 8, 3]\n"
     ]
    }
   ],
   "source": [
    "def similarity(image, weight_number):\n",
    "  return bin(image ^ weight_number).count('0')\n",
    "\n",
    "# example usage\n",
    "print('Digits sorted by increasing likelihood: ', \n",
    "  sorted(range(10), key = lambda d: similarity(image_number, weight_numbers[d]))\n",
    ")"
   ]
  },
  {
   "cell_type": "code",
   "execution_count": 30,
   "metadata": {},
   "outputs": [
    {
     "name": "stderr",
     "output_type": "stream",
     "text": [
      "100%|██████████| 10000/10000 [00:07<00:00, 1421.05it/s]"
     ]
    },
    {
     "name": "stdout",
     "output_type": "stream",
     "text": [
      "Final accuracy:  0.704\n"
     ]
    },
    {
     "name": "stderr",
     "output_type": "stream",
     "text": [
      "\n"
     ]
    }
   ],
   "source": [
    "# evaluation\n",
    "correct = 0\n",
    "for i in tqdm(range(len(validset))):\n",
    "    image, label = validset[i]\n",
    "    image = binarize_image(image)\n",
    "    # image.view(-1)\n",
    "    image = bits_to_int(image.view(-1))\n",
    "    correct += (label == max(range(10), key = lambda d: similarity(image, weight_numbers[d])))\n",
    "\n",
    "print('Final accuracy: ', correct / len(validset))\n"
   ]
  },
  {
   "cell_type": "markdown",
   "metadata": {},
   "source": [
    "## Conclusion\n",
    "\n",
    "We can classify an image in 2ms with 70% accuracy. This includes the time required to preprocess (downsample and binarize) the image!\n",
    "\n",
    "We can do this in pure Python without any external dependencies.\n",
    "\n",
    "This strategy could make it easy to add a little machine learning to a leighweight library which shouldn't depend on scientific libraries like numpy. All you need to do is include your weight numbers as a list directly in the source code and use the XOR and COUNT operators available in pure Python."
   ]
  }
 ],
 "metadata": {
  "kernelspec": {
   "display_name": "bnn-GRwNpjPu-py3.10",
   "language": "python",
   "name": "python3"
  },
  "language_info": {
   "codemirror_mode": {
    "name": "ipython",
    "version": 3
   },
   "file_extension": ".py",
   "mimetype": "text/x-python",
   "name": "python",
   "nbconvert_exporter": "python",
   "pygments_lexer": "ipython3",
   "version": "3.10.12"
  }
 },
 "nbformat": 4,
 "nbformat_minor": 2
}
